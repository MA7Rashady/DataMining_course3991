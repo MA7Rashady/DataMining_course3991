{
 "cells": [
  {
   "cell_type": "code",
   "execution_count": 1,
   "metadata": {},
   "outputs": [],
   "source": [
    "# reading data\n",
    "data = read.csv('Qom_trades.csv')"
   ]
  },
  {
   "cell_type": "markdown",
   "metadata": {},
   "source": [
    "# Project 1: Data-Cleaning\n",
    "\n",
    ">In this project i try to clean data of trades in qom\n",
    "\n"
   ]
  },
  {
   "cell_type": "code",
   "execution_count": 2,
   "metadata": {},
   "outputs": [
    {
     "data": {
      "text/html": [
       "<table>\n",
       "<caption>A matrix: 1 × 15 of type chr</caption>\n",
       "<tbody>\n",
       "\t<tr><td>Contract_code</td><td>contract_type</td><td>City</td><td>town</td><td>building_type</td><td>Region</td><td>application</td><td>area</td><td>percent</td><td>price</td><td>price_per_mm</td><td>age</td><td>Skeleton_type</td><td>time</td><td>Postal_code</td></tr>\n",
       "</tbody>\n",
       "</table>\n"
      ],
      "text/latex": [
       "A matrix: 1 × 15 of type chr\n",
       "\\begin{tabular}{lllllllllllllll}\n",
       "\t Contract\\_code & contract\\_type & City & town & building\\_type & Region & application & area & percent & price & price\\_per\\_mm & age & Skeleton\\_type & time & Postal\\_code\\\\\n",
       "\\end{tabular}\n"
      ],
      "text/markdown": [
       "\n",
       "A matrix: 1 × 15 of type chr\n",
       "\n",
       "| Contract_code | contract_type | City | town | building_type | Region | application | area | percent | price | price_per_mm | age | Skeleton_type | time | Postal_code |\n",
       "\n"
      ],
      "text/plain": [
       "     [,1]          [,2]          [,3] [,4] [,5]          [,6]   [,7]       \n",
       "[1,] Contract_code contract_type City town building_type Region application\n",
       "     [,8] [,9]    [,10] [,11]        [,12] [,13]         [,14] [,15]      \n",
       "[1,] area percent price price_per_mm age   Skeleton_type time  Postal_code"
      ]
     },
     "metadata": {},
     "output_type": "display_data"
    }
   ],
   "source": [
    "# getting a list of variables in data\n",
    "t(names(data))"
   ]
  },
  {
   "cell_type": "code",
   "execution_count": 3,
   "metadata": {},
   "outputs": [
    {
     "data": {
      "text/plain": [
       "    Min.  1st Qu.   Median     Mean  3rd Qu.     Max. \n",
       "19049756 19094038 19148936 19145818 19192517 19247913 "
      ]
     },
     "metadata": {},
     "output_type": "display_data"
    }
   ],
   "source": [
    "summary(data$Contract_code)"
   ]
  },
  {
   "cell_type": "code",
   "execution_count": 4,
   "metadata": {},
   "outputs": [
    {
     "name": "stderr",
     "output_type": "stream",
     "text": [
      "Loading required package: lattice\n",
      "\n",
      "Loading required package: survival\n",
      "\n",
      "Loading required package: Formula\n",
      "\n",
      "Loading required package: ggplot2\n",
      "\n",
      "\n",
      "Attaching package: 'Hmisc'\n",
      "\n",
      "\n",
      "The following objects are masked from 'package:base':\n",
      "\n",
      "    format.pval, units\n",
      "\n",
      "\n"
     ]
    },
    {
     "data": {
      "text/plain": [
       "data$Contract_code \n",
       "       n  missing distinct     Info     Mean      Gmd      .05      .10 \n",
       "     462        0      462        1 19145818    65821 19057897 19066025 \n",
       "     .25      .50      .75      .90      .95 \n",
       "19094038 19148936 19192517 19224494 19234818 \n",
       "\n",
       "lowest : 19049756 19050690 19050942 19050952 19051213\n",
       "highest: 19246726 19246980 19247263 19247459 19247913"
      ]
     },
     "metadata": {},
     "output_type": "display_data"
    }
   ],
   "source": [
    "# loading 'Hmisc' library to ////\n",
    "library(Hmisc)\n",
    "\n",
    "# getting some statistics about 'Contract_code'\n",
    "describe(data$Contract_code)"
   ]
  },
  {
   "cell_type": "code",
   "execution_count": 5,
   "metadata": {},
   "outputs": [],
   "source": [
    "# there isn't any missing value in 'Contract_code'\n",
    "# numbre of distinct values is equal to values.\n",
    "# so this variable is not practical and its better to remove froam data frame.\n",
    "\n",
    "data = subset(data, select = -c(Contract_code) )"
   ]
  },
  {
   "cell_type": "code",
   "execution_count": 6,
   "metadata": {},
   "outputs": [
    {
     "data": {
      "text/html": [
       "<table>\n",
       "<caption>A matrix: 1 × 14 of type chr</caption>\n",
       "<tbody>\n",
       "\t<tr><td>contract_type</td><td>City</td><td>town</td><td>building_type</td><td>Region</td><td>application</td><td>area</td><td>percent</td><td>price</td><td>price_per_mm</td><td>age</td><td>Skeleton_type</td><td>time</td><td>Postal_code</td></tr>\n",
       "</tbody>\n",
       "</table>\n"
      ],
      "text/latex": [
       "A matrix: 1 × 14 of type chr\n",
       "\\begin{tabular}{llllllllllllll}\n",
       "\t contract\\_type & City & town & building\\_type & Region & application & area & percent & price & price\\_per\\_mm & age & Skeleton\\_type & time & Postal\\_code\\\\\n",
       "\\end{tabular}\n"
      ],
      "text/markdown": [
       "\n",
       "A matrix: 1 × 14 of type chr\n",
       "\n",
       "| contract_type | City | town | building_type | Region | application | area | percent | price | price_per_mm | age | Skeleton_type | time | Postal_code |\n",
       "\n"
      ],
      "text/plain": [
       "     [,1]          [,2] [,3] [,4]          [,5]   [,6]        [,7] [,8]   \n",
       "[1,] contract_type City town building_type Region application area percent\n",
       "     [,9]  [,10]        [,11] [,12]         [,13] [,14]      \n",
       "[1,] price price_per_mm age   Skeleton_type time  Postal_code"
      ]
     },
     "metadata": {},
     "output_type": "display_data"
    }
   ],
   "source": [
    "t(names(data))"
   ]
  },
  {
   "cell_type": "code",
   "execution_count": 7,
   "metadata": {},
   "outputs": [
    {
     "data": {
      "text/plain": [
       "   Length     Class      Mode \n",
       "      462 character character "
      ]
     },
     "metadata": {},
     "output_type": "display_data"
    }
   ],
   "source": [
    "summary(data$contract_type)"
   ]
  },
  {
   "cell_type": "code",
   "execution_count": 8,
   "metadata": {},
   "outputs": [
    {
     "data": {
      "text/plain": [
       "data$contract_type \n",
       "           n      missing     distinct        value \n",
       "         462            0            1 Contr_letter \n",
       "                       \n",
       "Value      Contr_letter\n",
       "Frequency           462\n",
       "Proportion            1"
      ]
     },
     "metadata": {},
     "output_type": "display_data"
    }
   ],
   "source": [
    "describe(data$contract_type)"
   ]
  },
  {
   "cell_type": "code",
   "execution_count": 9,
   "metadata": {},
   "outputs": [],
   "source": [
    "# all values are same. so 'contract_type' is not a applicable varible.\n",
    "# it's better to remove from data.\n",
    "data = subset(data, select = -c(contract_type) )"
   ]
  },
  {
   "cell_type": "code",
   "execution_count": 10,
   "metadata": {},
   "outputs": [
    {
     "data": {
      "text/html": [
       "<table>\n",
       "<caption>A matrix: 1 × 13 of type chr</caption>\n",
       "<tbody>\n",
       "\t<tr><td>City</td><td>town</td><td>building_type</td><td>Region</td><td>application</td><td>area</td><td>percent</td><td>price</td><td>price_per_mm</td><td>age</td><td>Skeleton_type</td><td>time</td><td>Postal_code</td></tr>\n",
       "</tbody>\n",
       "</table>\n"
      ],
      "text/latex": [
       "A matrix: 1 × 13 of type chr\n",
       "\\begin{tabular}{lllllllllllll}\n",
       "\t City & town & building\\_type & Region & application & area & percent & price & price\\_per\\_mm & age & Skeleton\\_type & time & Postal\\_code\\\\\n",
       "\\end{tabular}\n"
      ],
      "text/markdown": [
       "\n",
       "A matrix: 1 × 13 of type chr\n",
       "\n",
       "| City | town | building_type | Region | application | area | percent | price | price_per_mm | age | Skeleton_type | time | Postal_code |\n",
       "\n"
      ],
      "text/plain": [
       "     [,1] [,2] [,3]          [,4]   [,5]        [,6] [,7]    [,8]  [,9]        \n",
       "[1,] City town building_type Region application area percent price price_per_mm\n",
       "     [,10] [,11]         [,12] [,13]      \n",
       "[1,] age   Skeleton_type time  Postal_code"
      ]
     },
     "metadata": {},
     "output_type": "display_data"
    }
   ],
   "source": [
    "t(names(data))"
   ]
  },
  {
   "cell_type": "code",
   "execution_count": 11,
   "metadata": {},
   "outputs": [
    {
     "data": {
      "text/plain": [
       "data$City \n",
       "       n  missing distinct    value \n",
       "     462        0        1      Qom \n",
       "              \n",
       "Value      Qom\n",
       "Frequency  462\n",
       "Proportion   1"
      ]
     },
     "metadata": {},
     "output_type": "display_data"
    }
   ],
   "source": [
    "describe(data$City)"
   ]
  },
  {
   "cell_type": "code",
   "execution_count": 12,
   "metadata": {},
   "outputs": [],
   "source": [
    "# all values are same. so 'City' is not a applicable varible.\n",
    "# it's better to remove from data.\n",
    "data = subset(data, select = -c(City) )"
   ]
  },
  {
   "cell_type": "code",
   "execution_count": 13,
   "metadata": {},
   "outputs": [
    {
     "data": {
      "text/html": [
       "<table>\n",
       "<caption>A matrix: 1 × 12 of type chr</caption>\n",
       "<tbody>\n",
       "\t<tr><td>town</td><td>building_type</td><td>Region</td><td>application</td><td>area</td><td>percent</td><td>price</td><td>price_per_mm</td><td>age</td><td>Skeleton_type</td><td>time</td><td>Postal_code</td></tr>\n",
       "</tbody>\n",
       "</table>\n"
      ],
      "text/latex": [
       "A matrix: 1 × 12 of type chr\n",
       "\\begin{tabular}{llllllllllll}\n",
       "\t town & building\\_type & Region & application & area & percent & price & price\\_per\\_mm & age & Skeleton\\_type & time & Postal\\_code\\\\\n",
       "\\end{tabular}\n"
      ],
      "text/markdown": [
       "\n",
       "A matrix: 1 × 12 of type chr\n",
       "\n",
       "| town | building_type | Region | application | area | percent | price | price_per_mm | age | Skeleton_type | time | Postal_code |\n",
       "\n"
      ],
      "text/plain": [
       "     [,1] [,2]          [,3]   [,4]        [,5] [,6]    [,7]  [,8]         [,9]\n",
       "[1,] town building_type Region application area percent price price_per_mm age \n",
       "     [,10]         [,11] [,12]      \n",
       "[1,] Skeleton_type time  Postal_code"
      ]
     },
     "metadata": {},
     "output_type": "display_data"
    }
   ],
   "source": [
    "# reviewing col names\n",
    "t(names(data))"
   ]
  },
  {
   "cell_type": "code",
   "execution_count": 14,
   "metadata": {},
   "outputs": [
    {
     "data": {
      "text/plain": [
       "data$town \n",
       "       n  missing distinct \n",
       "     462        0        3 \n",
       "                                  \n",
       "Value      Jafarie Qanavat     Qom\n",
       "Frequency        2       5     455\n",
       "Proportion   0.004   0.011   0.985"
      ]
     },
     "metadata": {},
     "output_type": "display_data"
    }
   ],
   "source": [
    "describe(data$town)"
   ]
  },
  {
   "cell_type": "code",
   "execution_count": 15,
   "metadata": {},
   "outputs": [],
   "source": [
    "# numbre of observed values in 'Jafarie' and 'Qanavat' are low\n",
    "# so 'town' is not a applicable varible.\n",
    "# it's better to remove from data.\n",
    "data = subset(data, select = -c(town) )"
   ]
  },
  {
   "cell_type": "code",
   "execution_count": 16,
   "metadata": {},
   "outputs": [
    {
     "data": {
      "text/html": [
       "<table>\n",
       "<caption>A matrix: 1 × 11 of type chr</caption>\n",
       "<tbody>\n",
       "\t<tr><td>building_type</td><td>Region</td><td>application</td><td>area</td><td>percent</td><td>price</td><td>price_per_mm</td><td>age</td><td>Skeleton_type</td><td>time</td><td>Postal_code</td></tr>\n",
       "</tbody>\n",
       "</table>\n"
      ],
      "text/latex": [
       "A matrix: 1 × 11 of type chr\n",
       "\\begin{tabular}{lllllllllll}\n",
       "\t building\\_type & Region & application & area & percent & price & price\\_per\\_mm & age & Skeleton\\_type & time & Postal\\_code\\\\\n",
       "\\end{tabular}\n"
      ],
      "text/markdown": [
       "\n",
       "A matrix: 1 × 11 of type chr\n",
       "\n",
       "| building_type | Region | application | area | percent | price | price_per_mm | age | Skeleton_type | time | Postal_code |\n",
       "\n"
      ],
      "text/plain": [
       "     [,1]          [,2]   [,3]        [,4] [,5]    [,6]  [,7]         [,8]\n",
       "[1,] building_type Region application area percent price price_per_mm age \n",
       "     [,9]          [,10] [,11]      \n",
       "[1,] Skeleton_type time  Postal_code"
      ]
     },
     "metadata": {},
     "output_type": "display_data"
    }
   ],
   "source": [
    "# reviewing col names\n",
    "t(names(data))"
   ]
  },
  {
   "cell_type": "code",
   "execution_count": 17,
   "metadata": {},
   "outputs": [
    {
     "data": {
      "text/plain": [
       "data$building_type \n",
       "        n   missing  distinct     value \n",
       "      462         0         1 apartment \n",
       "                    \n",
       "Value      apartment\n",
       "Frequency        462\n",
       "Proportion         1"
      ]
     },
     "metadata": {},
     "output_type": "display_data"
    }
   ],
   "source": [
    "describe(data$building_type)"
   ]
  },
  {
   "cell_type": "code",
   "execution_count": 18,
   "metadata": {},
   "outputs": [],
   "source": [
    "# all values are same. so 'building_type' is not a applicable varible.\n",
    "# it's better to remove from data.\n",
    "data = subset(data, select = -c(building_type) )"
   ]
  },
  {
   "cell_type": "code",
   "execution_count": 19,
   "metadata": {},
   "outputs": [
    {
     "data": {
      "text/html": [
       "<table>\n",
       "<caption>A matrix: 1 × 10 of type chr</caption>\n",
       "<tbody>\n",
       "\t<tr><td>Region</td><td>application</td><td>area</td><td>percent</td><td>price</td><td>price_per_mm</td><td>age</td><td>Skeleton_type</td><td>time</td><td>Postal_code</td></tr>\n",
       "</tbody>\n",
       "</table>\n"
      ],
      "text/latex": [
       "A matrix: 1 × 10 of type chr\n",
       "\\begin{tabular}{llllllllll}\n",
       "\t Region & application & area & percent & price & price\\_per\\_mm & age & Skeleton\\_type & time & Postal\\_code\\\\\n",
       "\\end{tabular}\n"
      ],
      "text/markdown": [
       "\n",
       "A matrix: 1 × 10 of type chr\n",
       "\n",
       "| Region | application | area | percent | price | price_per_mm | age | Skeleton_type | time | Postal_code |\n",
       "\n"
      ],
      "text/plain": [
       "     [,1]   [,2]        [,3] [,4]    [,5]  [,6]         [,7] [,8]          [,9]\n",
       "[1,] Region application area percent price price_per_mm age  Skeleton_type time\n",
       "     [,10]      \n",
       "[1,] Postal_code"
      ]
     },
     "metadata": {},
     "output_type": "display_data"
    }
   ],
   "source": [
    "# reviewing col names\n",
    "t(names(data))"
   ]
  },
  {
   "cell_type": "code",
   "execution_count": 20,
   "metadata": {},
   "outputs": [
    {
     "data": {
      "text/plain": [
       "data$application \n",
       "          n     missing    distinct       value \n",
       "        462           0           1 Residential \n",
       "                      \n",
       "Value      Residential\n",
       "Frequency          462\n",
       "Proportion           1"
      ]
     },
     "metadata": {},
     "output_type": "display_data"
    }
   ],
   "source": [
    "describe(data$application)"
   ]
  },
  {
   "cell_type": "code",
   "execution_count": 90,
   "metadata": {},
   "outputs": [],
   "source": [
    "# all values are same. so 'application' is not a applicable varible.\n",
    "# it's better to remove from data.\n",
    "data = subset(data, select = -c(application) )"
   ]
  },
  {
   "cell_type": "code",
   "execution_count": 22,
   "metadata": {},
   "outputs": [
    {
     "data": {
      "text/html": [
       "<table>\n",
       "<caption>A matrix: 1 × 9 of type chr</caption>\n",
       "<tbody>\n",
       "\t<tr><td>application</td><td>area</td><td>percent</td><td>price</td><td>price_per_mm</td><td>age</td><td>Skeleton_type</td><td>time</td><td>Postal_code</td></tr>\n",
       "</tbody>\n",
       "</table>\n"
      ],
      "text/latex": [
       "A matrix: 1 × 9 of type chr\n",
       "\\begin{tabular}{lllllllll}\n",
       "\t application & area & percent & price & price\\_per\\_mm & age & Skeleton\\_type & time & Postal\\_code\\\\\n",
       "\\end{tabular}\n"
      ],
      "text/markdown": [
       "\n",
       "A matrix: 1 × 9 of type chr\n",
       "\n",
       "| application | area | percent | price | price_per_mm | age | Skeleton_type | time | Postal_code |\n",
       "\n"
      ],
      "text/plain": [
       "     [,1]        [,2] [,3]    [,4]  [,5]         [,6] [,7]          [,8]\n",
       "[1,] application area percent price price_per_mm age  Skeleton_type time\n",
       "     [,9]       \n",
       "[1,] Postal_code"
      ]
     },
     "metadata": {},
     "output_type": "display_data"
    }
   ],
   "source": [
    "# reviewing col names\n",
    "t(names(data))"
   ]
  },
  {
   "cell_type": "code",
   "execution_count": 23,
   "metadata": {},
   "outputs": [
    {
     "data": {
      "text/plain": [
       "    Min.  1st Qu.   Median     Mean  3rd Qu.     Max. \n",
       "   33.00    78.66    90.00   152.00   112.00 12676.00 "
      ]
     },
     "metadata": {},
     "output_type": "display_data"
    }
   ],
   "source": [
    "summary(data$area)"
   ]
  },
  {
   "cell_type": "code",
   "execution_count": 24,
   "metadata": {},
   "outputs": [
    {
     "data": {
      "text/plain": [
       "data$area \n",
       "       n  missing distinct     Info     Mean      Gmd      .05      .10 \n",
       "     462        0      314        1      152    139.6    60.46    65.00 \n",
       "     .25      .50      .75      .90      .95 \n",
       "   78.66    90.00   112.00   140.00   169.26 \n",
       "\n",
       "lowest :    33.00    47.70    50.00    51.50    52.70\n",
       "highest:   245.00   421.18  2102.00 10019.00 12676.00\n",
       "                                                    \n",
       "Value          0   100   200   400  2100 10000 12700\n",
       "Frequency      3   425    30     1     1     1     1\n",
       "Proportion 0.006 0.920 0.065 0.002 0.002 0.002 0.002\n",
       "\n",
       "For the frequency table, variable is rounded to the nearest 100"
      ]
     },
     "metadata": {},
     "output_type": "display_data"
    }
   ],
   "source": [
    "describe(data$area)"
   ]
  },
  {
   "cell_type": "code",
   "execution_count": 25,
   "metadata": {},
   "outputs": [
    {
     "name": "stderr",
     "output_type": "stream",
     "text": [
      "Warning message:\n",
      "\"Removed 3 rows containing non-finite values (stat_bin).\"\n",
      "Warning message:\n",
      "\"Removed 2 rows containing missing values (geom_bar).\"\n"
     ]
    },
    {
     "data": {
      "image/png": "[encoded data removed]",
      "text/plain": [
       "plot without title"
      ]
     },
     "metadata": {
      "image/png": {
       "height": 420,
       "width": 420
      }
     },
     "output_type": "display_data"
    }
   ],
   "source": [
    "  ggplot(data = data) +\n",
    "    aes(x = area) +\n",
    "    geom_histogram(bins = 30L, fill = \"#0c4c8a\") +\n",
    "    xlim(10,600)+\n",
    "    theme_minimal()"
   ]
  },
  {
   "cell_type": "code",
   "execution_count": 26,
   "metadata": {},
   "outputs": [],
   "source": [
    "# excellent! there is no missing vaalue in 'area' variable\n",
    "# there are ouutliers in highest values\n",
    "\n",
    "# finding lower bound and upper bound\n",
    "ub_area <- quantile(data$area,0.99)\n",
    "lb_area <- quantile(data$area,0.01)\n",
    "\n",
    "# replace outliers with median\n",
    "data$area <- ifelse(data$area>ub_area | data$area<lb_area,\n",
    "                    median(data$area),\n",
    "                    data$area)"
   ]
  },
  {
   "cell_type": "code",
   "execution_count": 27,
   "metadata": {},
   "outputs": [
    {
     "data": {
      "image/png": "[encoded data removed]",
      "text/plain": [
       "plot without title"
      ]
     },
     "metadata": {
      "image/png": {
       "height": 420,
       "width": 420
      }
     },
     "output_type": "display_data"
    }
   ],
   "source": [
    "  ggplot(data = data,na.rm=TRUE) +\n",
    "    aes(x = area,na.rm=TRUE) +\n",
    "    geom_histogram(bins = 30L, fill = \"#0c4c8a\",na.rm=TRUE) +\n",
    "    xlim(lb_area,ub_area)+\n",
    "    theme_minimal()"
   ]
  },
  {
   "cell_type": "code",
   "execution_count": 28,
   "metadata": {},
   "outputs": [
    {
     "data": {
      "text/html": [
       "<table>\n",
       "<caption>A matrix: 1 × 9 of type chr</caption>\n",
       "<tbody>\n",
       "\t<tr><td>application</td><td>area</td><td>percent</td><td>price</td><td>price_per_mm</td><td>age</td><td>Skeleton_type</td><td>time</td><td>Postal_code</td></tr>\n",
       "</tbody>\n",
       "</table>\n"
      ],
      "text/latex": [
       "A matrix: 1 × 9 of type chr\n",
       "\\begin{tabular}{lllllllll}\n",
       "\t application & area & percent & price & price\\_per\\_mm & age & Skeleton\\_type & time & Postal\\_code\\\\\n",
       "\\end{tabular}\n"
      ],
      "text/markdown": [
       "\n",
       "A matrix: 1 × 9 of type chr\n",
       "\n",
       "| application | area | percent | price | price_per_mm | age | Skeleton_type | time | Postal_code |\n",
       "\n"
      ],
      "text/plain": [
       "     [,1]        [,2] [,3]    [,4]  [,5]         [,6] [,7]          [,8]\n",
       "[1,] application area percent price price_per_mm age  Skeleton_type time\n",
       "     [,9]       \n",
       "[1,] Postal_code"
      ]
     },
     "metadata": {},
     "output_type": "display_data"
    }
   ],
   "source": [
    "# reviewing col names\n",
    "t(names(data))"
   ]
  },
  {
   "cell_type": "code",
   "execution_count": 29,
   "metadata": {},
   "outputs": [
    {
     "data": {
      "text/plain": [
       "   Min. 1st Qu.  Median    Mean 3rd Qu.    Max. \n",
       "  10.01  100.00  100.00   98.83  100.00  100.00 "
      ]
     },
     "metadata": {},
     "output_type": "display_data"
    }
   ],
   "source": [
    "summary(data$percent)"
   ]
  },
  {
   "cell_type": "code",
   "execution_count": 30,
   "metadata": {},
   "outputs": [
    {
     "data": {
      "text/plain": [
       "data$percent \n",
       "       n  missing distinct     Info     Mean      Gmd \n",
       "     462        0        8    0.057    98.83    2.307 \n",
       "\n",
       "lowest :  10.01  20.00  25.00  41.67  50.00, highest:  41.67  50.00  66.67  85.00 100.00\n",
       "                                                                  \n",
       "Value       10.01  20.00  25.00  41.67  50.00  66.67  85.00 100.00\n",
       "Frequency       1      2      1      2      1      1      1    453\n",
       "Proportion  0.002  0.004  0.002  0.004  0.002  0.002  0.002  0.981"
      ]
     },
     "metadata": {},
     "output_type": "display_data"
    }
   ],
   "source": [
    "describe(data$percent)"
   ]
  },
  {
   "cell_type": "code",
   "execution_count": 31,
   "metadata": {},
   "outputs": [],
   "source": [
    "# as i understood numbre of obsrevations that theri 'percent' is not equal 100 is ver low \n",
    "# so its not applicable and we should remove this variable\n",
    "\n",
    "data = subset(data, select = -c(percent) )"
   ]
  },
  {
   "cell_type": "code",
   "execution_count": 32,
   "metadata": {},
   "outputs": [
    {
     "data": {
      "text/html": [
       "<table>\n",
       "<caption>A matrix: 1 × 8 of type chr</caption>\n",
       "<tbody>\n",
       "\t<tr><td>application</td><td>area</td><td>price</td><td>price_per_mm</td><td>age</td><td>Skeleton_type</td><td>time</td><td>Postal_code</td></tr>\n",
       "</tbody>\n",
       "</table>\n"
      ],
      "text/latex": [
       "A matrix: 1 × 8 of type chr\n",
       "\\begin{tabular}{llllllll}\n",
       "\t application & area & price & price\\_per\\_mm & age & Skeleton\\_type & time & Postal\\_code\\\\\n",
       "\\end{tabular}\n"
      ],
      "text/markdown": [
       "\n",
       "A matrix: 1 × 8 of type chr\n",
       "\n",
       "| application | area | price | price_per_mm | age | Skeleton_type | time | Postal_code |\n",
       "\n"
      ],
      "text/plain": [
       "     [,1]        [,2] [,3]  [,4]         [,5] [,6]          [,7] [,8]       \n",
       "[1,] application area price price_per_mm age  Skeleton_type time Postal_code"
      ]
     },
     "metadata": {},
     "output_type": "display_data"
    }
   ],
   "source": [
    "# reviewing col names\n",
    "t(names(data))"
   ]
  },
  {
   "cell_type": "code",
   "execution_count": 33,
   "metadata": {},
   "outputs": [
    {
     "data": {
      "text/plain": [
       "    Min.  1st Qu.   Median     Mean  3rd Qu.     Max. \n",
       "  630000  3905000  5500000  7583566  9687500 55000000 "
      ]
     },
     "metadata": {},
     "output_type": "display_data"
    }
   ],
   "source": [
    "summary(data$price)"
   ]
  },
  {
   "cell_type": "code",
   "execution_count": 34,
   "metadata": {},
   "outputs": [
    {
     "data": {
      "text/plain": [
       "data$price \n",
       "       n  missing distinct     Info     Mean      Gmd      .05      .10 \n",
       "     462        0      323        1  7583566  5417029  2871500  3241100 \n",
       "     .25      .50      .75      .90      .95 \n",
       " 3905000  5500000  9687500 14300000 17597500 \n",
       "\n",
       "lowest :   630000   920000  1140000  1500000  1690000\n",
       "highest: 30150000 32300000 33000000 35000000 55000000"
      ]
     },
     "metadata": {},
     "output_type": "display_data"
    }
   ],
   "source": [
    "describe(data$price)"
   ]
  },
  {
   "cell_type": "code",
   "execution_count": 35,
   "metadata": {},
   "outputs": [
    {
     "data": {
      "image/png": "[encoded data removed]",
      "text/plain": [
       "plot without title"
      ]
     },
     "metadata": {
      "image/png": {
       "height": 420,
       "width": 420
      }
     },
     "output_type": "display_data"
    }
   ],
   "source": [
    "  ggplot(data = data,na.rm=TRUE) +\n",
    "    aes(x = price,na.rm=TRUE) +\n",
    "    geom_histogram(bins = 30L, fill = \"#0c4c8a\",na.rm=TRUE) +\n",
    "    xlim(630000,55000000)+\n",
    "    theme_minimal()"
   ]
  },
  {
   "cell_type": "code",
   "execution_count": 36,
   "metadata": {},
   "outputs": [],
   "source": [
    "# there is no missing vaalue in 'price' variable\n",
    "# there are ouutliers more in highest values\n",
    "\n",
    "# finding lower bound and upper bound\n",
    "ub_price <- quantile(data$price,0.98)\n",
    "lb_price <- quantile(data$price,0.01)\n",
    "\n",
    "# replace outliers with median\n",
    "data$price <- ifelse(data$price>ub_price | data$price<lb_price,\n",
    "                    median(data$price),\n",
    "                    data$price)"
   ]
  },
  {
   "cell_type": "code",
   "execution_count": 37,
   "metadata": {},
   "outputs": [
    {
     "data": {
      "image/png": "[encoded data removed]",
      "text/plain": [
       "plot without title"
      ]
     },
     "metadata": {
      "image/png": {
       "height": 420,
       "width": 420
      }
     },
     "output_type": "display_data"
    }
   ],
   "source": [
    "ggplot(data = data) +\n",
    "    aes(x = price) +\n",
    "    geom_histogram(bins = 30L, fill = \"#0c4c8a\",na.rm=TRUE) +\n",
    "    xlim(lb_price,ub_price)+\n",
    "    theme_minimal()"
   ]
  },
  {
   "cell_type": "code",
   "execution_count": 38,
   "metadata": {},
   "outputs": [
    {
     "data": {
      "text/html": [
       "<table>\n",
       "<caption>A matrix: 1 × 8 of type chr</caption>\n",
       "<tbody>\n",
       "\t<tr><td>application</td><td>area</td><td>price</td><td>price_per_mm</td><td>age</td><td>Skeleton_type</td><td>time</td><td>Postal_code</td></tr>\n",
       "</tbody>\n",
       "</table>\n"
      ],
      "text/latex": [
       "A matrix: 1 × 8 of type chr\n",
       "\\begin{tabular}{llllllll}\n",
       "\t application & area & price & price\\_per\\_mm & age & Skeleton\\_type & time & Postal\\_code\\\\\n",
       "\\end{tabular}\n"
      ],
      "text/markdown": [
       "\n",
       "A matrix: 1 × 8 of type chr\n",
       "\n",
       "| application | area | price | price_per_mm | age | Skeleton_type | time | Postal_code |\n",
       "\n"
      ],
      "text/plain": [
       "     [,1]        [,2] [,3]  [,4]         [,5] [,6]          [,7] [,8]       \n",
       "[1,] application area price price_per_mm age  Skeleton_type time Postal_code"
      ]
     },
     "metadata": {},
     "output_type": "display_data"
    }
   ],
   "source": [
    "# reviewing col names\n",
    "t(names(data))"
   ]
  },
  {
   "cell_type": "code",
   "execution_count": 39,
   "metadata": {},
   "outputs": [
    {
     "data": {
      "text/plain": [
       "data$price_per_mm \n",
       "       n  missing distinct     Info     Mean      Gmd      .05      .10 \n",
       "     462        0      439        1    69172    31723    32100    42853 \n",
       "     .25      .50      .75      .90      .95 \n",
       "   50001    59068    87933   109223   121379 \n",
       "\n",
       "lowest :    904.86   1055.99   8129.03   9200.00   9576.20\n",
       "highest: 160489.74 177949.60 189436.62 189998.48 194117.65"
      ]
     },
     "metadata": {},
     "output_type": "display_data"
    }
   ],
   "source": [
    "describe(data$price_per_mm)"
   ]
  },
  {
   "cell_type": "code",
   "execution_count": 40,
   "metadata": {},
   "outputs": [
    {
     "data": {
      "text/plain": [
       "    Min.  1st Qu.   Median     Mean  3rd Qu.     Max. \n",
       "   904.9  50001.1  59068.2  69171.7  87932.8 194117.6 "
      ]
     },
     "metadata": {},
     "output_type": "display_data"
    }
   ],
   "source": [
    "summary(data$price_per_mm)"
   ]
  },
  {
   "cell_type": "code",
   "execution_count": 41,
   "metadata": {},
   "outputs": [],
   "source": [
    "# there is no missing value, "
   ]
  },
  {
   "cell_type": "code",
   "execution_count": 42,
   "metadata": {},
   "outputs": [
    {
     "data": {
      "image/png": "[encoded data removed]",
      "text/plain": [
       "plot without title"
      ]
     },
     "metadata": {
      "image/png": {
       "height": 420,
       "width": 420
      }
     },
     "output_type": "display_data"
    }
   ],
   "source": [
    "  ggplot(data =data,na.rm=TRUE) +\n",
    "    aes(x =price_per_mm,na.rm=TRUE) +\n",
    "    geom_histogram(bins = 30L, fill = \"#0c4c8a\",na.rm=TRUE) +\n",
    "#    xlim(min(data$price_per_mm,max(data$price_per_mm))+\n",
    "    theme_minimal()"
   ]
  },
  {
   "cell_type": "code",
   "execution_count": 43,
   "metadata": {},
   "outputs": [],
   "source": [
    "# there is no missing value.\n",
    "# there are outliers more in highest values than lowest values.\n",
    "\n",
    "# finding lower bound and upper bound\n",
    "ub_ppmm <- quantile(data$price_per_mm,0.97)\n",
    "lb_ppmm <- quantile(data$price_per_mm,0.01)\n",
    "\n",
    "# replace outliers with median\n",
    "data$price_per_mm <- ifelse(data$price_per_mm>ub_ppmm | data$price_per_mm<lb_ppmm,\n",
    "                    median(data$price_per_mm),\n",
    "                    data$price_per_mm)"
   ]
  },
  {
   "cell_type": "code",
   "execution_count": 44,
   "metadata": {},
   "outputs": [
    {
     "data": {
      "image/png": "[encoded data removed]",
      "text/plain": [
       "plot without title"
      ]
     },
     "metadata": {
      "image/png": {
       "height": 420,
       "width": 420
      }
     },
     "output_type": "display_data"
    }
   ],
   "source": [
    "  ggplot(data =data,na.rm=TRUE) +\n",
    "    aes(x =price_per_mm,na.rm=TRUE) +\n",
    "    geom_histogram(bins = 30L, fill = \"#0c4c8a\",na.rm=TRUE) +\n",
    "#    xlim(min(data$price_per_mm,max(data$price_per_mm))+\n",
    "    theme_minimal()"
   ]
  },
  {
   "cell_type": "code",
   "execution_count": 45,
   "metadata": {},
   "outputs": [
    {
     "data": {
      "text/html": [
       "<table>\n",
       "<caption>A matrix: 1 × 8 of type chr</caption>\n",
       "<tbody>\n",
       "\t<tr><td>application</td><td>area</td><td>price</td><td>price_per_mm</td><td>age</td><td>Skeleton_type</td><td>time</td><td>Postal_code</td></tr>\n",
       "</tbody>\n",
       "</table>\n"
      ],
      "text/latex": [
       "A matrix: 1 × 8 of type chr\n",
       "\\begin{tabular}{llllllll}\n",
       "\t application & area & price & price\\_per\\_mm & age & Skeleton\\_type & time & Postal\\_code\\\\\n",
       "\\end{tabular}\n"
      ],
      "text/markdown": [
       "\n",
       "A matrix: 1 × 8 of type chr\n",
       "\n",
       "| application | area | price | price_per_mm | age | Skeleton_type | time | Postal_code |\n",
       "\n"
      ],
      "text/plain": [
       "     [,1]        [,2] [,3]  [,4]         [,5] [,6]          [,7] [,8]       \n",
       "[1,] application area price price_per_mm age  Skeleton_type time Postal_code"
      ]
     },
     "metadata": {},
     "output_type": "display_data"
    }
   ],
   "source": [
    "t(names(data))"
   ]
  },
  {
   "cell_type": "code",
   "execution_count": 46,
   "metadata": {},
   "outputs": [
    {
     "data": {
      "text/plain": [
       "data$age \n",
       "       n  missing distinct     Info     Mean      Gmd      .05      .10 \n",
       "     462        0       19    0.992    5.939    5.114        0        0 \n",
       "     .25      .50      .75      .90      .95 \n",
       "       2        6        9       13       14 \n",
       "\n",
       "lowest :  0  1  2  3  4, highest: 14 15 16 17 19\n",
       "                                                                            \n",
       "Value          0     1     2     3     4     5     6     7     8     9    10\n",
       "Frequency     70    45    19    22    20    35    48    45    30    42    18\n",
       "Proportion 0.152 0.097 0.041 0.048 0.043 0.076 0.104 0.097 0.065 0.091 0.039\n",
       "                                                          \n",
       "Value         11    12    13    14    15    16    17    19\n",
       "Frequency      9     8     7    27     5     8     2     2\n",
       "Proportion 0.019 0.017 0.015 0.058 0.011 0.017 0.004 0.004"
      ]
     },
     "metadata": {},
     "output_type": "display_data"
    }
   ],
   "source": [
    "describe(data$age)"
   ]
  },
  {
   "cell_type": "code",
   "execution_count": 47,
   "metadata": {},
   "outputs": [
    {
     "data": {
      "text/plain": [
       "   Min. 1st Qu.  Median    Mean 3rd Qu.    Max. \n",
       "  0.000   2.000   6.000   5.939   9.000  19.000 "
      ]
     },
     "metadata": {},
     "output_type": "display_data"
    }
   ],
   "source": [
    "summary(data$age)"
   ]
  },
  {
   "cell_type": "code",
   "execution_count": 48,
   "metadata": {},
   "outputs": [
    {
     "data": {
      "image/png": "[encoded data removed]",
      "text/plain": [
       "plot without title"
      ]
     },
     "metadata": {
      "image/png": {
       "height": 420,
       "width": 420
      }
     },
     "output_type": "display_data"
    }
   ],
   "source": [
    "  ggplot(data =data,na.rm=TRUE) +\n",
    "    aes(x =age,na.rm=TRUE) +\n",
    "    geom_histogram(bins = 30L, fill = \"#0c4c8a\",na.rm=TRUE) +\n",
    "#    xlim(min(data$price_per_mm,max(data$price_per_mm))+\n",
    "    theme_minimal()"
   ]
  },
  {
   "cell_type": "code",
   "execution_count": 49,
   "metadata": {},
   "outputs": [],
   "source": [
    "# it seems there is no outliers in data$age"
   ]
  },
  {
   "cell_type": "code",
   "execution_count": 64,
   "metadata": {},
   "outputs": [
    {
     "data": {
      "text/html": [
       "<table>\n",
       "<caption>A matrix: 1 × 8 of type chr</caption>\n",
       "<tbody>\n",
       "\t<tr><td>application</td><td>area</td><td>price</td><td>price_per_mm</td><td>age</td><td>Skeleton_type</td><td>time</td><td>Postal_code</td></tr>\n",
       "</tbody>\n",
       "</table>\n"
      ],
      "text/latex": [
       "A matrix: 1 × 8 of type chr\n",
       "\\begin{tabular}{llllllll}\n",
       "\t application & area & price & price\\_per\\_mm & age & Skeleton\\_type & time & Postal\\_code\\\\\n",
       "\\end{tabular}\n"
      ],
      "text/markdown": [
       "\n",
       "A matrix: 1 × 8 of type chr\n",
       "\n",
       "| application | area | price | price_per_mm | age | Skeleton_type | time | Postal_code |\n",
       "\n"
      ],
      "text/plain": [
       "     [,1]        [,2] [,3]  [,4]         [,5] [,6]          [,7] [,8]       \n",
       "[1,] application area price price_per_mm age  Skeleton_type time Postal_code"
      ]
     },
     "metadata": {},
     "output_type": "display_data"
    }
   ],
   "source": [
    "# Reviewing data variables\n",
    "t(names(data))"
   ]
  },
  {
   "cell_type": "code",
   "execution_count": 51,
   "metadata": {},
   "outputs": [
    {
     "data": {
      "text/html": [
       "'character'"
      ],
      "text/latex": [
       "'character'"
      ],
      "text/markdown": [
       "'character'"
      ],
      "text/plain": [
       "[1] \"character\""
      ]
     },
     "metadata": {},
     "output_type": "display_data"
    }
   ],
   "source": [
    "class(data$Skeleton_type)"
   ]
  },
  {
   "cell_type": "code",
   "execution_count": null,
   "metadata": {},
   "outputs": [],
   "source": []
  },
  {
   "cell_type": "code",
   "execution_count": 52,
   "metadata": {},
   "outputs": [
    {
     "data": {
      "text/plain": [
       "data$Skeleton_type \n",
       "       n  missing distinct \n",
       "     462        0        3 \n",
       "                                                                      \n",
       "Value                 concrete            metallic metallic_&_concrete\n",
       "Frequency                  353                  47                  62\n",
       "Proportion               0.764               0.102               0.134"
      ]
     },
     "metadata": {},
     "output_type": "display_data"
    }
   ],
   "source": [
    "describe(data$Skeleton_type)"
   ]
  },
  {
   "cell_type": "code",
   "execution_count": 53,
   "metadata": {},
   "outputs": [
    {
     "data": {
      "text/plain": [
       "   Length     Class      Mode \n",
       "      462 character character "
      ]
     },
     "metadata": {},
     "output_type": "display_data"
    }
   ],
   "source": [
    "summary(data$Skeleton_type)"
   ]
  },
  {
   "cell_type": "code",
   "execution_count": 54,
   "metadata": {},
   "outputs": [],
   "source": [
    "#### visualizing data ####\n"
   ]
  },
  {
   "cell_type": "code",
   "execution_count": 71,
   "metadata": {},
   "outputs": [
    {
     "data": {
      "text/html": [
       "<table>\n",
       "<caption>A matrix: 1 × 3 of type chr</caption>\n",
       "<tbody>\n",
       "\t<tr><td>Skeleton_typeconcrete</td><td>Skeleton_typemetallic</td><td>Skeleton_typemetallic_&amp;_concrete</td></tr>\n",
       "</tbody>\n",
       "</table>\n"
      ],
      "text/latex": [
       "A matrix: 1 × 3 of type chr\n",
       "\\begin{tabular}{lll}\n",
       "\t Skeleton\\_typeconcrete & Skeleton\\_typemetallic & Skeleton\\_typemetallic\\_\\&\\_concrete\\\\\n",
       "\\end{tabular}\n"
      ],
      "text/markdown": [
       "\n",
       "A matrix: 1 × 3 of type chr\n",
       "\n",
       "| Skeleton_typeconcrete | Skeleton_typemetallic | Skeleton_typemetallic_&amp;_concrete |\n",
       "\n"
      ],
      "text/plain": [
       "     [,1]                  [,2]                 \n",
       "[1,] Skeleton_typeconcrete Skeleton_typemetallic\n",
       "     [,3]                            \n",
       "[1,] Skeleton_typemetallic_&_concrete"
      ]
     },
     "metadata": {},
     "output_type": "display_data"
    },
    {
     "data": {
      "text/html": [
       "<table>\n",
       "<caption>A data.frame: 6 × 3</caption>\n",
       "<thead>\n",
       "\t<tr><th></th><th scope=col>Skeleton_typeconcrete</th><th scope=col>Skeleton_typemetallic</th><th scope=col>Skeleton_typemetallic_&amp;_concrete</th></tr>\n",
       "\t<tr><th></th><th scope=col>&lt;dbl&gt;</th><th scope=col>&lt;dbl&gt;</th><th scope=col>&lt;dbl&gt;</th></tr>\n",
       "</thead>\n",
       "<tbody>\n",
       "\t<tr><th scope=row>1</th><td>1</td><td>0</td><td>0</td></tr>\n",
       "\t<tr><th scope=row>2</th><td>1</td><td>0</td><td>0</td></tr>\n",
       "\t<tr><th scope=row>3</th><td>1</td><td>0</td><td>0</td></tr>\n",
       "\t<tr><th scope=row>4</th><td>1</td><td>0</td><td>0</td></tr>\n",
       "\t<tr><th scope=row>5</th><td>0</td><td>0</td><td>1</td></tr>\n",
       "\t<tr><th scope=row>6</th><td>1</td><td>0</td><td>0</td></tr>\n",
       "</tbody>\n",
       "</table>\n"
      ],
      "text/latex": [
       "A data.frame: 6 × 3\n",
       "\\begin{tabular}{r|lll}\n",
       "  & Skeleton\\_typeconcrete & Skeleton\\_typemetallic & Skeleton\\_typemetallic\\_\\&\\_concrete\\\\\n",
       "  & <dbl> & <dbl> & <dbl>\\\\\n",
       "\\hline\n",
       "\t1 & 1 & 0 & 0\\\\\n",
       "\t2 & 1 & 0 & 0\\\\\n",
       "\t3 & 1 & 0 & 0\\\\\n",
       "\t4 & 1 & 0 & 0\\\\\n",
       "\t5 & 0 & 0 & 1\\\\\n",
       "\t6 & 1 & 0 & 0\\\\\n",
       "\\end{tabular}\n"
      ],
      "text/markdown": [
       "\n",
       "A data.frame: 6 × 3\n",
       "\n",
       "| <!--/--> | Skeleton_typeconcrete &lt;dbl&gt; | Skeleton_typemetallic &lt;dbl&gt; | Skeleton_typemetallic_&amp;_concrete &lt;dbl&gt; |\n",
       "|---|---|---|---|\n",
       "| 1 | 1 | 0 | 0 |\n",
       "| 2 | 1 | 0 | 0 |\n",
       "| 3 | 1 | 0 | 0 |\n",
       "| 4 | 1 | 0 | 0 |\n",
       "| 5 | 0 | 0 | 1 |\n",
       "| 6 | 1 | 0 | 0 |\n",
       "\n"
      ],
      "text/plain": [
       "  Skeleton_typeconcrete Skeleton_typemetallic Skeleton_typemetallic_&_concrete\n",
       "1 1                     0                     0                               \n",
       "2 1                     0                     0                               \n",
       "3 1                     0                     0                               \n",
       "4 1                     0                     0                               \n",
       "5 0                     0                     1                               \n",
       "6 1                     0                     0                               "
      ]
     },
     "metadata": {},
     "output_type": "display_data"
    }
   ],
   "source": [
    "# Creating dummy vaiables for 'Skeleton_type'.\n",
    "data_total <- model.matrix(~ 0+Skeleton_type, data)\n",
    "data_total <- as.data.frame(data_total)\n",
    "t(names(data_total))\n",
    "head(data_total)"
   ]
  },
  {
   "cell_type": "code",
   "execution_count": 72,
   "metadata": {},
   "outputs": [
    {
     "data": {
      "text/html": [
       "<table>\n",
       "<caption>A matrix: 1 × 8 of type chr</caption>\n",
       "<tbody>\n",
       "\t<tr><td>application</td><td>area</td><td>price</td><td>price_per_mm</td><td>age</td><td>Skeleton_type</td><td>time</td><td>Postal_code</td></tr>\n",
       "</tbody>\n",
       "</table>\n"
      ],
      "text/latex": [
       "A matrix: 1 × 8 of type chr\n",
       "\\begin{tabular}{llllllll}\n",
       "\t application & area & price & price\\_per\\_mm & age & Skeleton\\_type & time & Postal\\_code\\\\\n",
       "\\end{tabular}\n"
      ],
      "text/markdown": [
       "\n",
       "A matrix: 1 × 8 of type chr\n",
       "\n",
       "| application | area | price | price_per_mm | age | Skeleton_type | time | Postal_code |\n",
       "\n"
      ],
      "text/plain": [
       "     [,1]        [,2] [,3]  [,4]         [,5] [,6]          [,7] [,8]       \n",
       "[1,] application area price price_per_mm age  Skeleton_type time Postal_code"
      ]
     },
     "metadata": {},
     "output_type": "display_data"
    }
   ],
   "source": [
    "t(names(data))\n",
    "data = subset(data, select = -c(Skeleton_type) )"
   ]
  },
  {
   "cell_type": "code",
   "execution_count": 88,
   "metadata": {},
   "outputs": [],
   "source": [
    "data$Skeleton_concrete <- data_total$Skeleton_typeconcrete\n",
    "data$Skeleton_metallic <- data_total$Skeleton_typeconcrete\n",
    "data$Skeleton_metallic_concrete <- data_total$Skeleton_typemetallic_concrete"
   ]
  },
  {
   "cell_type": "code",
   "execution_count": 89,
   "metadata": {},
   "outputs": [
    {
     "data": {
      "text/html": [
       "<table>\n",
       "<caption>A matrix: 1 × 9 of type chr</caption>\n",
       "<tbody>\n",
       "\t<tr><td>application</td><td>area</td><td>price</td><td>price_per_mm</td><td>age</td><td>time</td><td>Postal_code</td><td>Skeleton_concrete</td><td>Skeleton_metallic</td></tr>\n",
       "</tbody>\n",
       "</table>\n"
      ],
      "text/latex": [
       "A matrix: 1 × 9 of type chr\n",
       "\\begin{tabular}{lllllllll}\n",
       "\t application & area & price & price\\_per\\_mm & age & time & Postal\\_code & Skeleton\\_concrete & Skeleton\\_metallic\\\\\n",
       "\\end{tabular}\n"
      ],
      "text/markdown": [
       "\n",
       "A matrix: 1 × 9 of type chr\n",
       "\n",
       "| application | area | price | price_per_mm | age | time | Postal_code | Skeleton_concrete | Skeleton_metallic |\n",
       "\n"
      ],
      "text/plain": [
       "     [,1]        [,2] [,3]  [,4]         [,5] [,6] [,7]       \n",
       "[1,] application area price price_per_mm age  time Postal_code\n",
       "     [,8]              [,9]             \n",
       "[1,] Skeleton_concrete Skeleton_metallic"
      ]
     },
     "metadata": {},
     "output_type": "display_data"
    }
   ],
   "source": [
    "t(names(data))"
   ]
  },
  {
   "cell_type": "code",
   "execution_count": null,
   "metadata": {},
   "outputs": [],
   "source": []
  },
  {
   "cell_type": "code",
   "execution_count": 75,
   "metadata": {},
   "outputs": [],
   "source": [
    "# it was a very nice categorical variable :)"
   ]
  },
  {
   "cell_type": "code",
   "execution_count": 56,
   "metadata": {},
   "outputs": [
    {
     "data": {
      "text/html": [
       "<table>\n",
       "<caption>A matrix: 1 × 8 of type chr</caption>\n",
       "<tbody>\n",
       "\t<tr><td>application</td><td>area</td><td>price</td><td>price_per_mm</td><td>age</td><td>Skeleton_type</td><td>time</td><td>Postal_code</td></tr>\n",
       "</tbody>\n",
       "</table>\n"
      ],
      "text/latex": [
       "A matrix: 1 × 8 of type chr\n",
       "\\begin{tabular}{llllllll}\n",
       "\t application & area & price & price\\_per\\_mm & age & Skeleton\\_type & time & Postal\\_code\\\\\n",
       "\\end{tabular}\n"
      ],
      "text/markdown": [
       "\n",
       "A matrix: 1 × 8 of type chr\n",
       "\n",
       "| application | area | price | price_per_mm | age | Skeleton_type | time | Postal_code |\n",
       "\n"
      ],
      "text/plain": [
       "     [,1]        [,2] [,3]  [,4]         [,5] [,6]          [,7] [,8]       \n",
       "[1,] application area price price_per_mm age  Skeleton_type time Postal_code"
      ]
     },
     "metadata": {},
     "output_type": "display_data"
    }
   ],
   "source": [
    "t(names(data))"
   ]
  },
  {
   "cell_type": "code",
   "execution_count": 57,
   "metadata": {},
   "outputs": [
    {
     "data": {
      "text/plain": [
       "data$time \n",
       "       n  missing distinct \n",
       "     462        0       30 \n",
       "\n",
       "lowest : 1399/04/01 1399/04/02 1399/04/03 1399/04/04 1399/04/05\n",
       "highest: 1399/04/26 1399/04/28 1399/04/29 1399/04/30 1399/04/31"
      ]
     },
     "metadata": {},
     "output_type": "display_data"
    }
   ],
   "source": [
    "describe(data$time)"
   ]
  },
  {
   "cell_type": "code",
   "execution_count": 58,
   "metadata": {},
   "outputs": [],
   "source": [
    "#### visualizing data ####"
   ]
  },
  {
   "cell_type": "code",
   "execution_count": 59,
   "metadata": {},
   "outputs": [
    {
     "ename": "ERROR",
     "evalue": "Error in hist.default(data$time, xlab = \"Skeleton_type\"): 'x' must be numeric\n",
     "output_type": "error",
     "traceback": [
      "Error in hist.default(data$time, xlab = \"Skeleton_type\"): 'x' must be numeric\nTraceback:\n",
      "1. hist(data$time, xlab = \"Skeleton_type\")",
      "2. hist.default(data$time, xlab = \"Skeleton_type\")",
      "3. stop(\"'x' must be numeric\")"
     ]
    }
   ],
   "source": [
    "hist(data$time, xlab = \"Skeleton_type\")"
   ]
  },
  {
   "cell_type": "code",
   "execution_count": 60,
   "metadata": {},
   "outputs": [
    {
     "ename": "ERROR",
     "evalue": "Error in -0.01 * height: non-numeric argument to binary operator\n",
     "output_type": "error",
     "traceback": [
      "Error in -0.01 * height: non-numeric argument to binary operator\nTraceback:\n",
      "1. barplot(data$Skeleton_type)",
      "2. barplot.default(data$Skeleton_type)"
     ]
    }
   ],
   "source": [
    "barplot(data$Skeleton_type)"
   ]
  },
  {
   "cell_type": "code",
   "execution_count": 91,
   "metadata": {},
   "outputs": [
    {
     "data": {
      "text/html": [
       "<table>\n",
       "<caption>A matrix: 1 × 8 of type chr</caption>\n",
       "<tbody>\n",
       "\t<tr><td>area</td><td>price</td><td>price_per_mm</td><td>age</td><td>time</td><td>Postal_code</td><td>Skeleton_concrete</td><td>Skeleton_metallic</td></tr>\n",
       "</tbody>\n",
       "</table>\n"
      ],
      "text/latex": [
       "A matrix: 1 × 8 of type chr\n",
       "\\begin{tabular}{llllllll}\n",
       "\t area & price & price\\_per\\_mm & age & time & Postal\\_code & Skeleton\\_concrete & Skeleton\\_metallic\\\\\n",
       "\\end{tabular}\n"
      ],
      "text/markdown": [
       "\n",
       "A matrix: 1 × 8 of type chr\n",
       "\n",
       "| area | price | price_per_mm | age | time | Postal_code | Skeleton_concrete | Skeleton_metallic |\n",
       "\n"
      ],
      "text/plain": [
       "     [,1] [,2]  [,3]         [,4] [,5] [,6]        [,7]             \n",
       "[1,] area price price_per_mm age  time Postal_code Skeleton_concrete\n",
       "     [,8]             \n",
       "[1,] Skeleton_metallic"
      ]
     },
     "metadata": {},
     "output_type": "display_data"
    }
   ],
   "source": [
    "t(names(data))"
   ]
  },
  {
   "cell_type": "code",
   "execution_count": 62,
   "metadata": {},
   "outputs": [
    {
     "data": {
      "text/plain": [
       "   Min. 1st Qu.  Median    Mean 3rd Qu.    Max. \n",
       " 311111  371168  371488  373158  373635  675465 "
      ]
     },
     "metadata": {},
     "output_type": "display_data"
    }
   ],
   "source": [
    "summary(data$Postal_code)"
   ]
  },
  {
   "cell_type": "code",
   "execution_count": 63,
   "metadata": {},
   "outputs": [
    {
     "data": {
      "text/plain": [
       "data$Postal_code \n",
       "       n  missing distinct     Info     Mean      Gmd      .05      .10 \n",
       "     462        0      133    0.999   373158     3767   371133   371134 \n",
       "     .25      .50      .75      .90      .95 \n",
       "  371168   371488   373635   374917   374919 \n",
       "\n",
       "lowest : 311111 371110 371111 371115 371131, highest: 374969 377777 381684 537711 675465\n",
       "                                                    \n",
       "Value      310000 370000 375000 380000 540000 675000\n",
       "Frequency       1    344    113      2      1      1\n",
       "Proportion  0.002  0.745  0.245  0.004  0.002  0.002\n",
       "\n",
       "For the frequency table, variable is rounded to the nearest 5000"
      ]
     },
     "metadata": {},
     "output_type": "display_data"
    }
   ],
   "source": [
    "describe(data$Postal_code)"
   ]
  },
  {
   "cell_type": "code",
   "execution_count": 92,
   "metadata": {},
   "outputs": [],
   "source": [
    "data = subset(data, select = -c(Postal_code) )"
   ]
  },
  {
   "cell_type": "code",
   "execution_count": 93,
   "metadata": {},
   "outputs": [],
   "source": [
    "data = subset(data, select = -c(time) )"
   ]
  },
  {
   "cell_type": "code",
   "execution_count": 94,
   "metadata": {},
   "outputs": [
    {
     "data": {
      "text/html": [
       "<table>\n",
       "<caption>A data.frame: 462 × 6</caption>\n",
       "<thead>\n",
       "\t<tr><th></th><th scope=col>area</th><th scope=col>price</th><th scope=col>price_per_mm</th><th scope=col>age</th><th scope=col>Skeleton_concrete</th><th scope=col>Skeleton_metallic</th></tr>\n",
       "\t<tr><th></th><th scope=col>&lt;dbl&gt;</th><th scope=col>&lt;dbl&gt;</th><th scope=col>&lt;dbl&gt;</th><th scope=col>&lt;int&gt;</th><th scope=col>&lt;dbl&gt;</th><th scope=col>&lt;dbl&gt;</th></tr>\n",
       "</thead>\n",
       "<tbody>\n",
       "\t<tr><th scope=row>1</th><td> 90.00</td><td> 4515000</td><td> 50166.67</td><td> 4</td><td>1</td><td>1</td></tr>\n",
       "\t<tr><th scope=row>2</th><td>157.54</td><td>15100000</td><td> 95848.67</td><td> 6</td><td>1</td><td>1</td></tr>\n",
       "\t<tr><th scope=row>3</th><td> 60.00</td><td> 3990000</td><td> 66500.00</td><td>14</td><td>1</td><td>1</td></tr>\n",
       "\t<tr><th scope=row>4</th><td> 79.00</td><td> 3410000</td><td> 43164.56</td><td> 6</td><td>1</td><td>1</td></tr>\n",
       "\t<tr><th scope=row>5</th><td> 79.60</td><td> 4320000</td><td> 54271.36</td><td> 6</td><td>0</td><td>0</td></tr>\n",
       "\t<tr><th scope=row>6</th><td>123.10</td><td> 9200000</td><td> 74735.99</td><td> 5</td><td>1</td><td>1</td></tr>\n",
       "\t<tr><th scope=row>7</th><td> 80.03</td><td> 4550000</td><td> 56853.68</td><td> 9</td><td>0</td><td>0</td></tr>\n",
       "\t<tr><th scope=row>8</th><td>130.00</td><td>15275000</td><td> 48958.33</td><td> 0</td><td>1</td><td>1</td></tr>\n",
       "\t<tr><th scope=row>9</th><td>150.00</td><td>17625000</td><td> 48958.33</td><td> 0</td><td>1</td><td>1</td></tr>\n",
       "\t<tr><th scope=row>10</th><td> 75.00</td><td> 2680000</td><td> 35733.33</td><td> 1</td><td>1</td><td>1</td></tr>\n",
       "\t<tr><th scope=row>11</th><td>125.00</td><td> 9650000</td><td> 77200.00</td><td> 0</td><td>1</td><td>1</td></tr>\n",
       "\t<tr><th scope=row>12</th><td>102.23</td><td> 8500000</td><td> 83145.85</td><td> 2</td><td>1</td><td>1</td></tr>\n",
       "\t<tr><th scope=row>13</th><td> 96.00</td><td> 5500000</td><td> 17604.17</td><td> 7</td><td>1</td><td>1</td></tr>\n",
       "\t<tr><th scope=row>14</th><td>111.05</td><td>13300000</td><td>119765.87</td><td> 5</td><td>1</td><td>1</td></tr>\n",
       "\t<tr><th scope=row>15</th><td> 90.00</td><td> 7000000</td><td> 77777.78</td><td> 1</td><td>1</td><td>1</td></tr>\n",
       "\t<tr><th scope=row>16</th><td> 81.55</td><td> 5120000</td><td> 62783.57</td><td>14</td><td>0</td><td>0</td></tr>\n",
       "\t<tr><th scope=row>17</th><td>142.00</td><td> 5500000</td><td> 59068.18</td><td> 0</td><td>0</td><td>0</td></tr>\n",
       "\t<tr><th scope=row>18</th><td> 90.00</td><td> 4750000</td><td> 52777.78</td><td> 5</td><td>1</td><td>1</td></tr>\n",
       "\t<tr><th scope=row>19</th><td> 79.80</td><td> 4350000</td><td> 54511.28</td><td> 6</td><td>1</td><td>1</td></tr>\n",
       "\t<tr><th scope=row>20</th><td>113.27</td><td> 8970000</td><td> 79191.31</td><td> 0</td><td>1</td><td>1</td></tr>\n",
       "\t<tr><th scope=row>21</th><td> 80.90</td><td> 3400000</td><td> 42027.19</td><td> 6</td><td>1</td><td>1</td></tr>\n",
       "\t<tr><th scope=row>22</th><td>100.00</td><td>11600000</td><td>116000.00</td><td> 0</td><td>1</td><td>1</td></tr>\n",
       "\t<tr><th scope=row>23</th><td> 86.00</td><td> 4270000</td><td> 49651.16</td><td> 8</td><td>1</td><td>1</td></tr>\n",
       "\t<tr><th scope=row>24</th><td> 64.20</td><td> 3080000</td><td> 47975.08</td><td> 9</td><td>1</td><td>1</td></tr>\n",
       "\t<tr><th scope=row>25</th><td>117.00</td><td> 7600000</td><td> 64957.26</td><td> 7</td><td>0</td><td>0</td></tr>\n",
       "\t<tr><th scope=row>26</th><td> 87.00</td><td> 6090000</td><td> 70000.00</td><td> 1</td><td>1</td><td>1</td></tr>\n",
       "\t<tr><th scope=row>27</th><td> 90.04</td><td> 4275000</td><td> 47478.90</td><td> 6</td><td>1</td><td>1</td></tr>\n",
       "\t<tr><th scope=row>28</th><td> 62.80</td><td> 3675000</td><td> 58519.11</td><td>14</td><td>0</td><td>0</td></tr>\n",
       "\t<tr><th scope=row>29</th><td> 72.50</td><td> 6000000</td><td> 82758.62</td><td> 8</td><td>1</td><td>1</td></tr>\n",
       "\t<tr><th scope=row>30</th><td> 93.56</td><td> 4980000</td><td> 53227.88</td><td> 7</td><td>1</td><td>1</td></tr>\n",
       "\t<tr><th scope=row>...</th><td>...</td><td>...</td><td>...</td><td>...</td><td>...</td><td>...</td></tr>\n",
       "\t<tr><th scope=row>433</th><td>109.00</td><td> 8900000</td><td> 81651.38</td><td> 0</td><td>1</td><td>1</td></tr>\n",
       "\t<tr><th scope=row>434</th><td>115.00</td><td> 5750000</td><td> 12500.00</td><td> 9</td><td>0</td><td>0</td></tr>\n",
       "\t<tr><th scope=row>435</th><td>128.11</td><td> 4000000</td><td> 31223.17</td><td> 9</td><td>1</td><td>1</td></tr>\n",
       "\t<tr><th scope=row>436</th><td>210.19</td><td> 5500000</td><td>130000.00</td><td> 1</td><td>1</td><td>1</td></tr>\n",
       "\t<tr><th scope=row>437</th><td>190.00</td><td>14000000</td><td> 73684.21</td><td> 0</td><td>1</td><td>1</td></tr>\n",
       "\t<tr><th scope=row>438</th><td>122.00</td><td> 5600000</td><td> 45901.64</td><td>16</td><td>0</td><td>0</td></tr>\n",
       "\t<tr><th scope=row>439</th><td> 59.65</td><td> 3450000</td><td> 57837.38</td><td> 7</td><td>1</td><td>1</td></tr>\n",
       "\t<tr><th scope=row>440</th><td> 62.71</td><td> 3700000</td><td> 59001.75</td><td>13</td><td>0</td><td>0</td></tr>\n",
       "\t<tr><th scope=row>441</th><td> 81.15</td><td> 4560000</td><td> 56192.24</td><td> 4</td><td>1</td><td>1</td></tr>\n",
       "\t<tr><th scope=row>442</th><td> 90.00</td><td> 3800000</td><td> 79664.57</td><td> 9</td><td>0</td><td>0</td></tr>\n",
       "\t<tr><th scope=row>443</th><td>110.00</td><td>11350000</td><td>103181.82</td><td> 0</td><td>1</td><td>1</td></tr>\n",
       "\t<tr><th scope=row>444</th><td>105.00</td><td>10000000</td><td> 95238.10</td><td> 6</td><td>1</td><td>1</td></tr>\n",
       "\t<tr><th scope=row>445</th><td>170.00</td><td>19300000</td><td>113529.41</td><td> 2</td><td>1</td><td>1</td></tr>\n",
       "\t<tr><th scope=row>446</th><td>102.97</td><td> 8750000</td><td> 84976.21</td><td> 7</td><td>1</td><td>1</td></tr>\n",
       "\t<tr><th scope=row>447</th><td> 95.08</td><td>10640000</td><td>111905.76</td><td> 3</td><td>1</td><td>1</td></tr>\n",
       "\t<tr><th scope=row>448</th><td> 76.36</td><td> 4410000</td><td> 57752.75</td><td> 8</td><td>0</td><td>0</td></tr>\n",
       "\t<tr><th scope=row>449</th><td> 85.00</td><td> 7500000</td><td> 88235.29</td><td> 1</td><td>1</td><td>1</td></tr>\n",
       "\t<tr><th scope=row>450</th><td>134.00</td><td>14740000</td><td>110000.00</td><td> 0</td><td>1</td><td>1</td></tr>\n",
       "\t<tr><th scope=row>451</th><td>100.28</td><td> 7220000</td><td> 71998.40</td><td> 6</td><td>1</td><td>1</td></tr>\n",
       "\t<tr><th scope=row>452</th><td> 82.13</td><td> 3605000</td><td> 43893.83</td><td> 6</td><td>0</td><td>0</td></tr>\n",
       "\t<tr><th scope=row>453</th><td>145.00</td><td>20300000</td><td> 59068.18</td><td> 0</td><td>1</td><td>1</td></tr>\n",
       "\t<tr><th scope=row>454</th><td> 63.00</td><td> 3485000</td><td> 55317.46</td><td>10</td><td>1</td><td>1</td></tr>\n",
       "\t<tr><th scope=row>455</th><td> 76.00</td><td> 3920000</td><td> 51578.95</td><td> 6</td><td>1</td><td>1</td></tr>\n",
       "\t<tr><th scope=row>456</th><td> 78.82</td><td> 4300000</td><td> 54554.68</td><td>10</td><td>1</td><td>1</td></tr>\n",
       "\t<tr><th scope=row>457</th><td>137.50</td><td> 9200000</td><td> 66909.09</td><td> 1</td><td>0</td><td>0</td></tr>\n",
       "\t<tr><th scope=row>458</th><td> 84.50</td><td> 3490000</td><td> 41301.78</td><td> 7</td><td>1</td><td>1</td></tr>\n",
       "\t<tr><th scope=row>459</th><td> 96.00</td><td> 6050000</td><td> 63020.83</td><td> 5</td><td>1</td><td>1</td></tr>\n",
       "\t<tr><th scope=row>460</th><td>107.00</td><td>11230000</td><td>104953.27</td><td> 1</td><td>1</td><td>1</td></tr>\n",
       "\t<tr><th scope=row>461</th><td>104.29</td><td>12000000</td><td>115063.76</td><td> 2</td><td>1</td><td>1</td></tr>\n",
       "\t<tr><th scope=row>462</th><td> 94.40</td><td> 5400000</td><td> 57203.39</td><td> 6</td><td>1</td><td>1</td></tr>\n",
       "</tbody>\n",
       "</table>\n"
      ],
      "text/latex": [
       "A data.frame: 462 × 6\n",
       "\\begin{tabular}{r|llllll}\n",
       "  & area & price & price\\_per\\_mm & age & Skeleton\\_concrete & Skeleton\\_metallic\\\\\n",
       "  & <dbl> & <dbl> & <dbl> & <int> & <dbl> & <dbl>\\\\\n",
       "\\hline\n",
       "\t1 &  90.00 &  4515000 &  50166.67 &  4 & 1 & 1\\\\\n",
       "\t2 & 157.54 & 15100000 &  95848.67 &  6 & 1 & 1\\\\\n",
       "\t3 &  60.00 &  3990000 &  66500.00 & 14 & 1 & 1\\\\\n",
       "\t4 &  79.00 &  3410000 &  43164.56 &  6 & 1 & 1\\\\\n",
       "\t5 &  79.60 &  4320000 &  54271.36 &  6 & 0 & 0\\\\\n",
       "\t6 & 123.10 &  9200000 &  74735.99 &  5 & 1 & 1\\\\\n",
       "\t7 &  80.03 &  4550000 &  56853.68 &  9 & 0 & 0\\\\\n",
       "\t8 & 130.00 & 15275000 &  48958.33 &  0 & 1 & 1\\\\\n",
       "\t9 & 150.00 & 17625000 &  48958.33 &  0 & 1 & 1\\\\\n",
       "\t10 &  75.00 &  2680000 &  35733.33 &  1 & 1 & 1\\\\\n",
       "\t11 & 125.00 &  9650000 &  77200.00 &  0 & 1 & 1\\\\\n",
       "\t12 & 102.23 &  8500000 &  83145.85 &  2 & 1 & 1\\\\\n",
       "\t13 &  96.00 &  5500000 &  17604.17 &  7 & 1 & 1\\\\\n",
       "\t14 & 111.05 & 13300000 & 119765.87 &  5 & 1 & 1\\\\\n",
       "\t15 &  90.00 &  7000000 &  77777.78 &  1 & 1 & 1\\\\\n",
       "\t16 &  81.55 &  5120000 &  62783.57 & 14 & 0 & 0\\\\\n",
       "\t17 & 142.00 &  5500000 &  59068.18 &  0 & 0 & 0\\\\\n",
       "\t18 &  90.00 &  4750000 &  52777.78 &  5 & 1 & 1\\\\\n",
       "\t19 &  79.80 &  4350000 &  54511.28 &  6 & 1 & 1\\\\\n",
       "\t20 & 113.27 &  8970000 &  79191.31 &  0 & 1 & 1\\\\\n",
       "\t21 &  80.90 &  3400000 &  42027.19 &  6 & 1 & 1\\\\\n",
       "\t22 & 100.00 & 11600000 & 116000.00 &  0 & 1 & 1\\\\\n",
       "\t23 &  86.00 &  4270000 &  49651.16 &  8 & 1 & 1\\\\\n",
       "\t24 &  64.20 &  3080000 &  47975.08 &  9 & 1 & 1\\\\\n",
       "\t25 & 117.00 &  7600000 &  64957.26 &  7 & 0 & 0\\\\\n",
       "\t26 &  87.00 &  6090000 &  70000.00 &  1 & 1 & 1\\\\\n",
       "\t27 &  90.04 &  4275000 &  47478.90 &  6 & 1 & 1\\\\\n",
       "\t28 &  62.80 &  3675000 &  58519.11 & 14 & 0 & 0\\\\\n",
       "\t29 &  72.50 &  6000000 &  82758.62 &  8 & 1 & 1\\\\\n",
       "\t30 &  93.56 &  4980000 &  53227.88 &  7 & 1 & 1\\\\\n",
       "\t... & ... & ... & ... & ... & ... & ...\\\\\n",
       "\t433 & 109.00 &  8900000 &  81651.38 &  0 & 1 & 1\\\\\n",
       "\t434 & 115.00 &  5750000 &  12500.00 &  9 & 0 & 0\\\\\n",
       "\t435 & 128.11 &  4000000 &  31223.17 &  9 & 1 & 1\\\\\n",
       "\t436 & 210.19 &  5500000 & 130000.00 &  1 & 1 & 1\\\\\n",
       "\t437 & 190.00 & 14000000 &  73684.21 &  0 & 1 & 1\\\\\n",
       "\t438 & 122.00 &  5600000 &  45901.64 & 16 & 0 & 0\\\\\n",
       "\t439 &  59.65 &  3450000 &  57837.38 &  7 & 1 & 1\\\\\n",
       "\t440 &  62.71 &  3700000 &  59001.75 & 13 & 0 & 0\\\\\n",
       "\t441 &  81.15 &  4560000 &  56192.24 &  4 & 1 & 1\\\\\n",
       "\t442 &  90.00 &  3800000 &  79664.57 &  9 & 0 & 0\\\\\n",
       "\t443 & 110.00 & 11350000 & 103181.82 &  0 & 1 & 1\\\\\n",
       "\t444 & 105.00 & 10000000 &  95238.10 &  6 & 1 & 1\\\\\n",
       "\t445 & 170.00 & 19300000 & 113529.41 &  2 & 1 & 1\\\\\n",
       "\t446 & 102.97 &  8750000 &  84976.21 &  7 & 1 & 1\\\\\n",
       "\t447 &  95.08 & 10640000 & 111905.76 &  3 & 1 & 1\\\\\n",
       "\t448 &  76.36 &  4410000 &  57752.75 &  8 & 0 & 0\\\\\n",
       "\t449 &  85.00 &  7500000 &  88235.29 &  1 & 1 & 1\\\\\n",
       "\t450 & 134.00 & 14740000 & 110000.00 &  0 & 1 & 1\\\\\n",
       "\t451 & 100.28 &  7220000 &  71998.40 &  6 & 1 & 1\\\\\n",
       "\t452 &  82.13 &  3605000 &  43893.83 &  6 & 0 & 0\\\\\n",
       "\t453 & 145.00 & 20300000 &  59068.18 &  0 & 1 & 1\\\\\n",
       "\t454 &  63.00 &  3485000 &  55317.46 & 10 & 1 & 1\\\\\n",
       "\t455 &  76.00 &  3920000 &  51578.95 &  6 & 1 & 1\\\\\n",
       "\t456 &  78.82 &  4300000 &  54554.68 & 10 & 1 & 1\\\\\n",
       "\t457 & 137.50 &  9200000 &  66909.09 &  1 & 0 & 0\\\\\n",
       "\t458 &  84.50 &  3490000 &  41301.78 &  7 & 1 & 1\\\\\n",
       "\t459 &  96.00 &  6050000 &  63020.83 &  5 & 1 & 1\\\\\n",
       "\t460 & 107.00 & 11230000 & 104953.27 &  1 & 1 & 1\\\\\n",
       "\t461 & 104.29 & 12000000 & 115063.76 &  2 & 1 & 1\\\\\n",
       "\t462 &  94.40 &  5400000 &  57203.39 &  6 & 1 & 1\\\\\n",
       "\\end{tabular}\n"
      ],
      "text/markdown": [
       "\n",
       "A data.frame: 462 × 6\n",
       "\n",
       "| <!--/--> | area &lt;dbl&gt; | price &lt;dbl&gt; | price_per_mm &lt;dbl&gt; | age &lt;int&gt; | Skeleton_concrete &lt;dbl&gt; | Skeleton_metallic &lt;dbl&gt; |\n",
       "|---|---|---|---|---|---|---|\n",
       "| 1 |  90.00 |  4515000 |  50166.67 |  4 | 1 | 1 |\n",
       "| 2 | 157.54 | 15100000 |  95848.67 |  6 | 1 | 1 |\n",
       "| 3 |  60.00 |  3990000 |  66500.00 | 14 | 1 | 1 |\n",
       "| 4 |  79.00 |  3410000 |  43164.56 |  6 | 1 | 1 |\n",
       "| 5 |  79.60 |  4320000 |  54271.36 |  6 | 0 | 0 |\n",
       "| 6 | 123.10 |  9200000 |  74735.99 |  5 | 1 | 1 |\n",
       "| 7 |  80.03 |  4550000 |  56853.68 |  9 | 0 | 0 |\n",
       "| 8 | 130.00 | 15275000 |  48958.33 |  0 | 1 | 1 |\n",
       "| 9 | 150.00 | 17625000 |  48958.33 |  0 | 1 | 1 |\n",
       "| 10 |  75.00 |  2680000 |  35733.33 |  1 | 1 | 1 |\n",
       "| 11 | 125.00 |  9650000 |  77200.00 |  0 | 1 | 1 |\n",
       "| 12 | 102.23 |  8500000 |  83145.85 |  2 | 1 | 1 |\n",
       "| 13 |  96.00 |  5500000 |  17604.17 |  7 | 1 | 1 |\n",
       "| 14 | 111.05 | 13300000 | 119765.87 |  5 | 1 | 1 |\n",
       "| 15 |  90.00 |  7000000 |  77777.78 |  1 | 1 | 1 |\n",
       "| 16 |  81.55 |  5120000 |  62783.57 | 14 | 0 | 0 |\n",
       "| 17 | 142.00 |  5500000 |  59068.18 |  0 | 0 | 0 |\n",
       "| 18 |  90.00 |  4750000 |  52777.78 |  5 | 1 | 1 |\n",
       "| 19 |  79.80 |  4350000 |  54511.28 |  6 | 1 | 1 |\n",
       "| 20 | 113.27 |  8970000 |  79191.31 |  0 | 1 | 1 |\n",
       "| 21 |  80.90 |  3400000 |  42027.19 |  6 | 1 | 1 |\n",
       "| 22 | 100.00 | 11600000 | 116000.00 |  0 | 1 | 1 |\n",
       "| 23 |  86.00 |  4270000 |  49651.16 |  8 | 1 | 1 |\n",
       "| 24 |  64.20 |  3080000 |  47975.08 |  9 | 1 | 1 |\n",
       "| 25 | 117.00 |  7600000 |  64957.26 |  7 | 0 | 0 |\n",
       "| 26 |  87.00 |  6090000 |  70000.00 |  1 | 1 | 1 |\n",
       "| 27 |  90.04 |  4275000 |  47478.90 |  6 | 1 | 1 |\n",
       "| 28 |  62.80 |  3675000 |  58519.11 | 14 | 0 | 0 |\n",
       "| 29 |  72.50 |  6000000 |  82758.62 |  8 | 1 | 1 |\n",
       "| 30 |  93.56 |  4980000 |  53227.88 |  7 | 1 | 1 |\n",
       "| ... | ... | ... | ... | ... | ... | ... |\n",
       "| 433 | 109.00 |  8900000 |  81651.38 |  0 | 1 | 1 |\n",
       "| 434 | 115.00 |  5750000 |  12500.00 |  9 | 0 | 0 |\n",
       "| 435 | 128.11 |  4000000 |  31223.17 |  9 | 1 | 1 |\n",
       "| 436 | 210.19 |  5500000 | 130000.00 |  1 | 1 | 1 |\n",
       "| 437 | 190.00 | 14000000 |  73684.21 |  0 | 1 | 1 |\n",
       "| 438 | 122.00 |  5600000 |  45901.64 | 16 | 0 | 0 |\n",
       "| 439 |  59.65 |  3450000 |  57837.38 |  7 | 1 | 1 |\n",
       "| 440 |  62.71 |  3700000 |  59001.75 | 13 | 0 | 0 |\n",
       "| 441 |  81.15 |  4560000 |  56192.24 |  4 | 1 | 1 |\n",
       "| 442 |  90.00 |  3800000 |  79664.57 |  9 | 0 | 0 |\n",
       "| 443 | 110.00 | 11350000 | 103181.82 |  0 | 1 | 1 |\n",
       "| 444 | 105.00 | 10000000 |  95238.10 |  6 | 1 | 1 |\n",
       "| 445 | 170.00 | 19300000 | 113529.41 |  2 | 1 | 1 |\n",
       "| 446 | 102.97 |  8750000 |  84976.21 |  7 | 1 | 1 |\n",
       "| 447 |  95.08 | 10640000 | 111905.76 |  3 | 1 | 1 |\n",
       "| 448 |  76.36 |  4410000 |  57752.75 |  8 | 0 | 0 |\n",
       "| 449 |  85.00 |  7500000 |  88235.29 |  1 | 1 | 1 |\n",
       "| 450 | 134.00 | 14740000 | 110000.00 |  0 | 1 | 1 |\n",
       "| 451 | 100.28 |  7220000 |  71998.40 |  6 | 1 | 1 |\n",
       "| 452 |  82.13 |  3605000 |  43893.83 |  6 | 0 | 0 |\n",
       "| 453 | 145.00 | 20300000 |  59068.18 |  0 | 1 | 1 |\n",
       "| 454 |  63.00 |  3485000 |  55317.46 | 10 | 1 | 1 |\n",
       "| 455 |  76.00 |  3920000 |  51578.95 |  6 | 1 | 1 |\n",
       "| 456 |  78.82 |  4300000 |  54554.68 | 10 | 1 | 1 |\n",
       "| 457 | 137.50 |  9200000 |  66909.09 |  1 | 0 | 0 |\n",
       "| 458 |  84.50 |  3490000 |  41301.78 |  7 | 1 | 1 |\n",
       "| 459 |  96.00 |  6050000 |  63020.83 |  5 | 1 | 1 |\n",
       "| 460 | 107.00 | 11230000 | 104953.27 |  1 | 1 | 1 |\n",
       "| 461 | 104.29 | 12000000 | 115063.76 |  2 | 1 | 1 |\n",
       "| 462 |  94.40 |  5400000 |  57203.39 |  6 | 1 | 1 |\n",
       "\n"
      ],
      "text/plain": [
       "    area   price    price_per_mm age Skeleton_concrete Skeleton_metallic\n",
       "1    90.00  4515000  50166.67     4  1                 1                \n",
       "2   157.54 15100000  95848.67     6  1                 1                \n",
       "3    60.00  3990000  66500.00    14  1                 1                \n",
       "4    79.00  3410000  43164.56     6  1                 1                \n",
       "5    79.60  4320000  54271.36     6  0                 0                \n",
       "6   123.10  9200000  74735.99     5  1                 1                \n",
       "7    80.03  4550000  56853.68     9  0                 0                \n",
       "8   130.00 15275000  48958.33     0  1                 1                \n",
       "9   150.00 17625000  48958.33     0  1                 1                \n",
       "10   75.00  2680000  35733.33     1  1                 1                \n",
       "11  125.00  9650000  77200.00     0  1                 1                \n",
       "12  102.23  8500000  83145.85     2  1                 1                \n",
       "13   96.00  5500000  17604.17     7  1                 1                \n",
       "14  111.05 13300000 119765.87     5  1                 1                \n",
       "15   90.00  7000000  77777.78     1  1                 1                \n",
       "16   81.55  5120000  62783.57    14  0                 0                \n",
       "17  142.00  5500000  59068.18     0  0                 0                \n",
       "18   90.00  4750000  52777.78     5  1                 1                \n",
       "19   79.80  4350000  54511.28     6  1                 1                \n",
       "20  113.27  8970000  79191.31     0  1                 1                \n",
       "21   80.90  3400000  42027.19     6  1                 1                \n",
       "22  100.00 11600000 116000.00     0  1                 1                \n",
       "23   86.00  4270000  49651.16     8  1                 1                \n",
       "24   64.20  3080000  47975.08     9  1                 1                \n",
       "25  117.00  7600000  64957.26     7  0                 0                \n",
       "26   87.00  6090000  70000.00     1  1                 1                \n",
       "27   90.04  4275000  47478.90     6  1                 1                \n",
       "28   62.80  3675000  58519.11    14  0                 0                \n",
       "29   72.50  6000000  82758.62     8  1                 1                \n",
       "30   93.56  4980000  53227.88     7  1                 1                \n",
       "... ...    ...      ...          ... ...               ...              \n",
       "433 109.00  8900000  81651.38     0  1                 1                \n",
       "434 115.00  5750000  12500.00     9  0                 0                \n",
       "435 128.11  4000000  31223.17     9  1                 1                \n",
       "436 210.19  5500000 130000.00     1  1                 1                \n",
       "437 190.00 14000000  73684.21     0  1                 1                \n",
       "438 122.00  5600000  45901.64    16  0                 0                \n",
       "439  59.65  3450000  57837.38     7  1                 1                \n",
       "440  62.71  3700000  59001.75    13  0                 0                \n",
       "441  81.15  4560000  56192.24     4  1                 1                \n",
       "442  90.00  3800000  79664.57     9  0                 0                \n",
       "443 110.00 11350000 103181.82     0  1                 1                \n",
       "444 105.00 10000000  95238.10     6  1                 1                \n",
       "445 170.00 19300000 113529.41     2  1                 1                \n",
       "446 102.97  8750000  84976.21     7  1                 1                \n",
       "447  95.08 10640000 111905.76     3  1                 1                \n",
       "448  76.36  4410000  57752.75     8  0                 0                \n",
       "449  85.00  7500000  88235.29     1  1                 1                \n",
       "450 134.00 14740000 110000.00     0  1                 1                \n",
       "451 100.28  7220000  71998.40     6  1                 1                \n",
       "452  82.13  3605000  43893.83     6  0                 0                \n",
       "453 145.00 20300000  59068.18     0  1                 1                \n",
       "454  63.00  3485000  55317.46    10  1                 1                \n",
       "455  76.00  3920000  51578.95     6  1                 1                \n",
       "456  78.82  4300000  54554.68    10  1                 1                \n",
       "457 137.50  9200000  66909.09     1  0                 0                \n",
       "458  84.50  3490000  41301.78     7  1                 1                \n",
       "459  96.00  6050000  63020.83     5  1                 1                \n",
       "460 107.00 11230000 104953.27     1  1                 1                \n",
       "461 104.29 12000000 115063.76     2  1                 1                \n",
       "462  94.40  5400000  57203.39     6  1                 1                "
      ]
     },
     "metadata": {},
     "output_type": "display_data"
    }
   ],
   "source": [
    "data"
   ]
  },
  {
   "cell_type": "code",
   "execution_count": 97,
   "metadata": {},
   "outputs": [],
   "source": [
    "write.csv(data,file = \"Data_cleand_1.csv\")"
   ]
  },
  {
   "cell_type": "code",
   "execution_count": null,
   "metadata": {},
   "outputs": [],
   "source": []
  }
 ],
 "metadata": {
  "kernelspec": {
   "display_name": "R",
   "language": "R",
   "name": "ir"
  },
  "language_info": {
   "codemirror_mode": "r",
   "file_extension": ".r",
   "mimetype": "text/x-r-source",
   "name": "R",
   "pygments_lexer": "r",
   "version": "4.0.3"
  }
 },
 "nbformat": 4,
 "nbformat_minor": 2
}
